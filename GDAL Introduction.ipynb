{
 "cells": [
  {
   "cell_type": "markdown",
   "metadata": {},
   "source": [
    "## Using the GDAL Python API for Raster Processing\n",
    "\n",
    "GDAL (Geospatial Data Abstraction Library) is a free, open source library for reading/writing raster and vector geospatial data formats. GDAL tools are chiefly for raster processing - the associated OGR library is used for vector, but these are being folded together. GDAL is used in many applications (including ArcGIS) and has APIs for use in several languages.\n",
    "\n",
    "The GDAL Python API is well developed and widely used. It can be installed through Anaconda with **conda install -c conda-forge gdal**. Documentation and support isn't great but can be found - one good resource is the [Python GDAL/OGR Cookbook](https://pcjericks.github.io/py-gdalogr-cookbook/raster_layers.html.\n",
    "\n",
    "In OPP, we utilize this library heavily for doing things like advanced zonal statistics for habitat or watershed overlays. The main advantages of GDAL vs ArcPy or ArcGIS is (1) processing speed, (2) flexibility, and (3) no need for an Esri license.\n",
    "\n",
    "In this notebook I demonstrate a simple use case for GDAL - manipulating the Cropland Data Layer for a small state (Delaware). I acquired the raster dataset from the [Geospatial Data Gateway](https://datagateway.nrcs.usda.gov/GDGOrder.aspx)"
   ]
  },
  {
   "cell_type": "markdown",
   "metadata": {},
   "source": [
    "First, let's open a raster file and look at some attributes:"
   ]
  },
  {
   "cell_type": "code",
   "execution_count": null,
   "metadata": {},
   "outputs": [],
   "source": [
    "import os\n",
    "import gdal\n",
    "import numpy as np\n",
    "import pandas as pd\n",
    "\n",
    "# Path to the raster file\n",
    "cdl_path = os.path.join(\"GIS\", \"nass_de\", \"cdl_30m_r_de_2016_utm18.tif\")\n",
    "\n",
    "# Open the file\n",
    "cdl_raster = gdal.Open(cdl_path)\n",
    "\n",
    "# Get raster geotransform (top_left_x, pixel_width, rotation, top_left_y, rotation, pixel_height)\n",
    "left, cell_size, _, top, *_ = cdl_raster.GetGeoTransform()  # north up\n",
    "x_size = cdl_raster.RasterXSize * cell_size\n",
    "y_size = cdl_raster.RasterYSize * cell_size\n",
    "right = left + x_size\n",
    "bottom = top - y_size\n",
    "\n",
    "print(\"Cell size: \", cell_size)\n",
    "print(\"Left: {}\\nRight: {}\\nBottom: {}\\nTop: {}\".format(left, right, bottom, top))"
   ]
  },
  {
   "cell_type": "markdown",
   "metadata": {},
   "source": [
    "The key to manipulating the raster data is reading it into an array - from there we can do manipulations with NumPy, Pandas, or other Python tools. This code reads a piece of the raster into an array."
   ]
  },
  {
   "cell_type": "code",
   "execution_count": null,
   "metadata": {},
   "outputs": [],
   "source": [
    "# Extract a 5 km by 5 km piece of the land cover raster as an array\n",
    "x_offset = 5000  # 10 km east from the western edge\n",
    "y_offset = 5000  # 10 km south from the northern edge\n",
    "x_max = 3000  # 3 km wide\n",
    "y_max = 3000  # 3 km long\n",
    "band = cdl_raster.GetRasterBand(1)  # 1 band raster\n",
    "bounds = map(lambda x: int(x / cell_size), (x_offset, y_offset, x_max, y_max))  # meters -> pixels\n",
    "sample = band.ReadAsArray(*bounds)\n",
    "\n",
    "print(\"Shape: {}\\n\".format(sample.shape))\n",
    "print(sample)\n"
   ]
  },
  {
   "cell_type": "markdown",
   "metadata": {},
   "source": [
    "From here we can use Python tools to analyze or manipulate the data:"
   ]
  },
  {
   "cell_type": "code",
   "execution_count": null,
   "metadata": {},
   "outputs": [],
   "source": [
    "# Return the area for the land cover classes\n",
    "cdl_table = pd.read_csv(os.path.join(\"GIS\", \"cdl_classes.csv\")).set_index('cdl')\n",
    "class_counts = np.array(np.unique(sample, return_counts=True)).T\n",
    "class_table = pd.DataFrame(class_counts, columns=['cdl', 'pixels']).set_index('cdl')\n",
    "class_table = class_table.merge(cdl_table, left_index=True, right_index=True)\n",
    "class_table['area'] = np.int32(class_table.pop('pixels') * cell_size ** 2)\n",
    "class_table['pct'] = (class_table.area / (x_max * y_max)) * 100\n",
    "\n",
    "print(class_table.sort_values('pct', ascending=False))"
   ]
  },
  {
   "cell_type": "markdown",
   "metadata": {},
   "source": [
    "And we can modify the array and convert it back to a raster:"
   ]
  },
  {
   "cell_type": "code",
   "execution_count": null,
   "metadata": {},
   "outputs": [],
   "source": [
    "sample[sample != 141] = 0\n",
    "\n",
    "# Write the array to a new raster\n",
    "out_path = os.path.join(\"GIS\", \"test_square.tif\")\n",
    "driver = cdl_raster.GetDriver()\n",
    "out_raster = driver.Create(out_path, int(x_max / cell_size), int(y_max / cell_size), 1, gdal.GDT_Int32)\n",
    "out_raster.SetGeoTransform((left + x_offset, cell_size, 0, top - y_offset, 0, -cell_size))\n",
    "out_band = out_raster.GetRasterBand(1)\n",
    "out_band.WriteArray(sample, 0, 0)"
   ]
  },
  {
   "cell_type": "markdown",
   "metadata": {},
   "source": [
    "If we rearrange the above code into classes, it makes it easy to do more advanced operations, or to do the same operations repetetively. \n",
    "\n",
    "This class initializes a Raster from a path:"
   ]
  },
  {
   "cell_type": "code",
   "execution_count": null,
   "metadata": {},
   "outputs": [],
   "source": [
    "class GDALRaster(object):\n",
    "    def __init__(self, path):\n",
    "        self.obj = gdal.Open(path)\n",
    "        self.left, self.cell_size, _, self.top, *_ = self.obj.GetGeoTransform()\n",
    "        self.shape = np.array([self.obj.RasterXSize, self.obj.RasterYSize])\n",
    "        self.x_size, self.y_size = self.shape * self.cell_size\n"
   ]
  },
  {
   "cell_type": "markdown",
   "metadata": {},
   "source": [
    "And this one provides all the functionality for making selections and writing to raster like we did above:"
   ]
  },
  {
   "cell_type": "code",
   "execution_count": null,
   "metadata": {},
   "outputs": [],
   "source": [
    "class RasterSelection(object):\n",
    "    def __init__(self, raster, x_offset=0, y_offset=0, x_max=0, y_max=0):\n",
    "        if not any((x_offset, y_offset, x_max, y_max)):  # whole raster\n",
    "            x_max, y_max = raster.x_size, raster.y_size\n",
    "        self.left = raster.left + x_offset\n",
    "        self.top = raster.top - y_offset\n",
    "        self.cell_size = raster.cell_size\n",
    "        self.x_pixels = int(x_max / raster.cell_size)\n",
    "        self.y_pixels = int(y_max / raster.cell_size)\n",
    "        self.bounds = list(map(lambda x: int(x / self.cell_size), (x_offset, y_offset, x_max, y_max)))\n",
    "\n",
    "        # Get driver from template raster\n",
    "        self.driver = raster.obj.GetDriver()\n",
    "\n",
    "        # Fetch the array\n",
    "        band = raster.obj.GetRasterBand(1)  # 1 band raster\n",
    "        self.array = band.ReadAsArray(*self.bounds)  # meters -> pixels\n",
    "\n",
    "    def write(self, out_path):\n",
    "        out_raster = self.driver.Create(out_path, self.x_pixels, self.y_pixels, 1, gdal.GDT_Int32)\n",
    "        out_raster.SetGeoTransform((self.left, self.cell_size, 0, self.top, 0, -self.cell_size))\n",
    "        out_band = out_raster.GetRasterBand(1)\n",
    "        out_band.SetNoDataValue(0)\n",
    "        out_band.WriteArray(self.array, 0, 0)\n",
    "        out_band.FlushCache()"
   ]
  },
  {
   "cell_type": "markdown",
   "metadata": {},
   "source": [
    "As an example of how to leverage these classes, we'll split up the Delaware raster into tiles.  First, we create a simple function for breaking up a rectangle:"
   ]
  },
  {
   "cell_type": "code",
   "execution_count": null,
   "metadata": {},
   "outputs": [],
   "source": [
    "def make_tiles(x_size, y_size, tile_size):\n",
    "    x = list(range(0, int(x_size), tile_size)) + [int(x_size)]\n",
    "    y = list(range(0, int(y_size), tile_size)) + [int(y_size)]\n",
    "    for i in range(len(x) - 1):\n",
    "        for j in range(len(y) - 1):\n",
    "            yield (x[i], y[j], x[i + 1] - x[i], y[j + 1] - y[j])"
   ]
  },
  {
   "cell_type": "markdown",
   "metadata": {},
   "source": [
    "Now we can iterate through the state and create tiles:"
   ]
  },
  {
   "cell_type": "code",
   "execution_count": null,
   "metadata": {},
   "outputs": [],
   "source": [
    "# Initialize the CDL raster\n",
    "cdl_raster = GDALRaster(cdl_path)\n",
    "\n",
    "# Set the output location\n",
    "out_tile = os.path.join(\"GIS\", \"tiles\", \"tile_{}.tif\")\n",
    "\n",
    "# Initialize a set of tiles to break up the raster\n",
    "tile_size = 25000\n",
    "tiles = make_tiles(cdl_raster.x_size, cdl_raster.y_size, tile_size)\n",
    "\n",
    "for counter, tile in enumerate(tiles):\n",
    "    print(\"Processing tile {}...\".format(counter))\n",
    "    sample = RasterSelection(cdl_raster, *tile)\n",
    "    sample.write(out_tile.format(counter))"
   ]
  },
  {
   "cell_type": "markdown",
   "metadata": {},
   "source": [
    "And modifying is much simpler:"
   ]
  },
  {
   "cell_type": "code",
   "execution_count": null,
   "metadata": {},
   "outputs": [],
   "source": [
    "# Make a raster of soybean pixels\n",
    "soy_raster = os.path.join(\"GIS\", \"delaware_soy.tif\")\n",
    "sample = RasterSelection(cdl_raster)\n",
    "sample.array[sample.array != 5] = 0\n",
    "sample.write(soy_raster)"
   ]
  }
 ],
 "metadata": {
  "kernelspec": {
   "display_name": "Python 3",
   "language": "python",
   "name": "python3"
  },
  "language_info": {
   "codemirror_mode": {
    "name": "ipython",
    "version": 3
   },
   "file_extension": ".py",
   "mimetype": "text/x-python",
   "name": "python",
   "nbconvert_exporter": "python",
   "pygments_lexer": "ipython3",
   "version": "3.7.3"
  }
 },
 "nbformat": 4,
 "nbformat_minor": 1
}
